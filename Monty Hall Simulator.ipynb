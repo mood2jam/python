{
 "cells": [
  {
   "cell_type": "code",
   "execution_count": 1,
   "metadata": {
    "collapsed": true
   },
   "outputs": [],
   "source": [
    "import numpy as np\n",
    "\n",
    "def mh_simulator(num_doors = 3, num_goats_revealed = 1, strategy = \"switch\", n = 10**4, \n",
    "                         player = \"auto\", verbose = False):\n",
    "    \"\"\"\n",
    "    Simulates the monty hall problem with the ability to specify the number of doors, number of goats revealed after\n",
    "    first choice, and strategy. \n",
    "    \n",
    "    Parameters\n",
    "        num_doors(int): Total number of doors in the simulation\n",
    "        num_goats_revealed(int): Number of goats revealed by game show host after your choice. Max is num_doors-2\n",
    "        strategy(string): 'switch' or 'stay'\n",
    "        n(int): Number of simulations\n",
    "        player(string): either 'auto' or the player's name who is playing the game\n",
    "        verbose(boolean): True if you want to see what happens during each simulation\n",
    "        \n",
    "    Returns\n",
    "        float: probability of winning with current strategy/configeration after given number of simulations  \n",
    "    \"\"\"\n",
    "    win = 0 # Win count starts at zero\n",
    "    for _ in range(n):\n",
    "        car = np.random.randint(0,num_doors) # Chooses a random door for the car to be behind\n",
    "        if player == \"auto\": # Gets the player's first choice\n",
    "            first_choice = np.random.randint(0,num_doors) \n",
    "        else:\n",
    "            first_choice = int(input(\"Please enter your choice of door out of {}:\".format(num_doors)))-1\n",
    "\n",
    "        if verbose == True:\n",
    "            if player == \"auto\":\n",
    "                print(\"Car is behind door:\", car)\n",
    "            print(\"First choice:\", first_choice)\n",
    "\n",
    "        goats = np.arange(num_doors) \n",
    "        car_idx = np.argwhere(goats==car) \n",
    "        goats = np.delete(goats, car_idx) # Creates a list of the doors with the goats behind them by removing the car index\n",
    "\n",
    "        if first_choice != car:\n",
    "            choice_idx = np.argwhere(goats==first_choice)\n",
    "            goats = np.delete(goats, choice_idx) # If we did not choose the car first, we need to remove that option from goats\n",
    "\n",
    "        goats_to_reveal = np.random.choice(goats, num_goats_revealed, replace=False) # Opens a certain number of doors with goats\n",
    "\n",
    "        if strategy == \"switch\": # Strategy is switch\n",
    "            new_options = np.delete(np.arange(num_doors), goats_to_reveal) \n",
    "            choice_idx = np.argwhere(new_options==first_choice)\n",
    "            new_options = np.delete(new_options, choice_idx) # Create a list of new options by removing revealed goats and first choice\n",
    "            \n",
    "            if player != 'auto':\n",
    "                second_choice = int(input(\"Please enter your choice of door out of {}:\".format(num_doors)))-1\n",
    "            else:\n",
    "                second_choice = np.random.choice(new_options, 1) # Choose a random new option from possible ones\n",
    "                \n",
    "        else: # Strategy is stay\n",
    "            second_choice = first_choice\n",
    "\n",
    "        if verbose == True:\n",
    "            print(\"The host reveals goat(s) behind door(s):\", goats_to_reveal)\n",
    "            print(\"The strategy is {}.\".format(strategy))\n",
    "            print(new_options)\n",
    "            if player == \"auto\":\n",
    "                print(\"Your second choice is door {}.\".format(second_choice))\n",
    "            else:\n",
    "                second_choice = int(input(\"Please enter your choice of door out of {}:\".format(new_options)))-1\n",
    "\n",
    "        if second_choice == car: # You won\n",
    "            win += 1 # Increments win count\n",
    "            if verbose == True:\n",
    "                print(\"You won!\")\n",
    "                print()\n",
    "        else: # You lost\n",
    "            if verbose == True:\n",
    "                print(\"You lost.\")\n",
    "                print()\n",
    "                \n",
    "    return win/n # Probability you win with a specific strategy"
   ]
  },
  {
   "cell_type": "code",
   "execution_count": 14,
   "metadata": {},
   "outputs": [
    {
     "data": {
      "text/plain": [
       "0.0285"
      ]
     },
     "execution_count": 14,
     "metadata": {},
     "output_type": "execute_result"
    }
   ],
   "source": [
    "mh_simulator(100,64,strategy='switch')"
   ]
  },
  {
   "cell_type": "code",
   "execution_count": 13,
   "metadata": {},
   "outputs": [
    {
     "data": {
      "text/plain": [
       "0.028285714285714286"
      ]
     },
     "execution_count": 13,
     "metadata": {},
     "output_type": "execute_result"
    }
   ],
   "source": [
    "(99/100)*(1/(99-64))"
   ]
  }
 ],
 "metadata": {
  "kernelspec": {
   "display_name": "Python 3",
   "language": "python",
   "name": "python3"
  },
  "language_info": {
   "codemirror_mode": {
    "name": "ipython",
    "version": 3
   },
   "file_extension": ".py",
   "mimetype": "text/x-python",
   "name": "python",
   "nbconvert_exporter": "python",
   "pygments_lexer": "ipython3",
   "version": "3.6.3"
  }
 },
 "nbformat": 4,
 "nbformat_minor": 2
}
